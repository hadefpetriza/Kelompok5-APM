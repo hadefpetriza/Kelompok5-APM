{
  "nbformat": 4,
  "nbformat_minor": 0,
  "metadata": {
    "colab": {
      "name": "BernoulliNaiveBayes.ipynb",
      "provenance": []
    },
    "kernelspec": {
      "name": "python3",
      "display_name": "Python 3"
    },
    "language_info": {
      "name": "python"
    }
  },
  "cells": [
    {
      "cell_type": "markdown",
      "source": [
        "# Import semua library yang di butuhkan"
      ],
      "metadata": {
        "id": "gBliqcxH903P"
      }
    },
    {
      "cell_type": "code",
      "execution_count": null,
      "metadata": {
        "id": "iaHNfbl68KP1"
      },
      "outputs": [],
      "source": [
        "%matplotlib inline\n",
        "import numpy as np\n",
        "import pandas as pd\n",
        "import scipy\n",
        "import sklearn\n",
        "import matplotlib.pyplot as plt\n",
        "import seaborn as sns"
      ]
    },
    {
      "cell_type": "markdown",
      "source": [
        "# Import dataset"
      ],
      "metadata": {
        "id": "I_aHxIiA-GHg"
      }
    },
    {
      "cell_type": "code",
      "source": [
        "df = pd.read_table('amazon_cells_labelled.txt',header=None, names=['message','is_positive'])\n",
        "df.head()"
      ],
      "metadata": {
        "colab": {
          "base_uri": "https://localhost:8080/",
          "height": 206
        },
        "id": "kibTiRkH80v6",
        "outputId": "5c87bf06-c067-4748-de09-b98a00f42ca0"
      },
      "execution_count": null,
      "outputs": [
        {
          "output_type": "execute_result",
          "data": {
            "text/plain": [
              "                                             message  is_positive\n",
              "0  So there is no way for me to plug it in here i...            0\n",
              "1                        Good case, Excellent value.            1\n",
              "2                             Great for the jawbone.            1\n",
              "3  Tied to charger for conversations lasting more...            0\n",
              "4                                  The mic is great.            1"
            ],
            "text/html": [
              "\n",
              "  <div id=\"df-884103dc-252b-41aa-ac8e-8b8245464a8e\">\n",
              "    <div class=\"colab-df-container\">\n",
              "      <div>\n",
              "<style scoped>\n",
              "    .dataframe tbody tr th:only-of-type {\n",
              "        vertical-align: middle;\n",
              "    }\n",
              "\n",
              "    .dataframe tbody tr th {\n",
              "        vertical-align: top;\n",
              "    }\n",
              "\n",
              "    .dataframe thead th {\n",
              "        text-align: right;\n",
              "    }\n",
              "</style>\n",
              "<table border=\"1\" class=\"dataframe\">\n",
              "  <thead>\n",
              "    <tr style=\"text-align: right;\">\n",
              "      <th></th>\n",
              "      <th>message</th>\n",
              "      <th>is_positive</th>\n",
              "    </tr>\n",
              "  </thead>\n",
              "  <tbody>\n",
              "    <tr>\n",
              "      <th>0</th>\n",
              "      <td>So there is no way for me to plug it in here i...</td>\n",
              "      <td>0</td>\n",
              "    </tr>\n",
              "    <tr>\n",
              "      <th>1</th>\n",
              "      <td>Good case, Excellent value.</td>\n",
              "      <td>1</td>\n",
              "    </tr>\n",
              "    <tr>\n",
              "      <th>2</th>\n",
              "      <td>Great for the jawbone.</td>\n",
              "      <td>1</td>\n",
              "    </tr>\n",
              "    <tr>\n",
              "      <th>3</th>\n",
              "      <td>Tied to charger for conversations lasting more...</td>\n",
              "      <td>0</td>\n",
              "    </tr>\n",
              "    <tr>\n",
              "      <th>4</th>\n",
              "      <td>The mic is great.</td>\n",
              "      <td>1</td>\n",
              "    </tr>\n",
              "  </tbody>\n",
              "</table>\n",
              "</div>\n",
              "      <button class=\"colab-df-convert\" onclick=\"convertToInteractive('df-884103dc-252b-41aa-ac8e-8b8245464a8e')\"\n",
              "              title=\"Convert this dataframe to an interactive table.\"\n",
              "              style=\"display:none;\">\n",
              "        \n",
              "  <svg xmlns=\"http://www.w3.org/2000/svg\" height=\"24px\"viewBox=\"0 0 24 24\"\n",
              "       width=\"24px\">\n",
              "    <path d=\"M0 0h24v24H0V0z\" fill=\"none\"/>\n",
              "    <path d=\"M18.56 5.44l.94 2.06.94-2.06 2.06-.94-2.06-.94-.94-2.06-.94 2.06-2.06.94zm-11 1L8.5 8.5l.94-2.06 2.06-.94-2.06-.94L8.5 2.5l-.94 2.06-2.06.94zm10 10l.94 2.06.94-2.06 2.06-.94-2.06-.94-.94-2.06-.94 2.06-2.06.94z\"/><path d=\"M17.41 7.96l-1.37-1.37c-.4-.4-.92-.59-1.43-.59-.52 0-1.04.2-1.43.59L10.3 9.45l-7.72 7.72c-.78.78-.78 2.05 0 2.83L4 21.41c.39.39.9.59 1.41.59.51 0 1.02-.2 1.41-.59l7.78-7.78 2.81-2.81c.8-.78.8-2.07 0-2.86zM5.41 20L4 18.59l7.72-7.72 1.47 1.35L5.41 20z\"/>\n",
              "  </svg>\n",
              "      </button>\n",
              "      \n",
              "  <style>\n",
              "    .colab-df-container {\n",
              "      display:flex;\n",
              "      flex-wrap:wrap;\n",
              "      gap: 12px;\n",
              "    }\n",
              "\n",
              "    .colab-df-convert {\n",
              "      background-color: #E8F0FE;\n",
              "      border: none;\n",
              "      border-radius: 50%;\n",
              "      cursor: pointer;\n",
              "      display: none;\n",
              "      fill: #1967D2;\n",
              "      height: 32px;\n",
              "      padding: 0 0 0 0;\n",
              "      width: 32px;\n",
              "    }\n",
              "\n",
              "    .colab-df-convert:hover {\n",
              "      background-color: #E2EBFA;\n",
              "      box-shadow: 0px 1px 2px rgba(60, 64, 67, 0.3), 0px 1px 3px 1px rgba(60, 64, 67, 0.15);\n",
              "      fill: #174EA6;\n",
              "    }\n",
              "\n",
              "    [theme=dark] .colab-df-convert {\n",
              "      background-color: #3B4455;\n",
              "      fill: #D2E3FC;\n",
              "    }\n",
              "\n",
              "    [theme=dark] .colab-df-convert:hover {\n",
              "      background-color: #434B5C;\n",
              "      box-shadow: 0px 1px 3px 1px rgba(0, 0, 0, 0.15);\n",
              "      filter: drop-shadow(0px 1px 2px rgba(0, 0, 0, 0.3));\n",
              "      fill: #FFFFFF;\n",
              "    }\n",
              "  </style>\n",
              "\n",
              "      <script>\n",
              "        const buttonEl =\n",
              "          document.querySelector('#df-884103dc-252b-41aa-ac8e-8b8245464a8e button.colab-df-convert');\n",
              "        buttonEl.style.display =\n",
              "          google.colab.kernel.accessAllowed ? 'block' : 'none';\n",
              "\n",
              "        async function convertToInteractive(key) {\n",
              "          const element = document.querySelector('#df-884103dc-252b-41aa-ac8e-8b8245464a8e');\n",
              "          const dataTable =\n",
              "            await google.colab.kernel.invokeFunction('convertToInteractive',\n",
              "                                                     [key], {});\n",
              "          if (!dataTable) return;\n",
              "\n",
              "          const docLinkHtml = 'Like what you see? Visit the ' +\n",
              "            '<a target=\"_blank\" href=https://colab.research.google.com/notebooks/data_table.ipynb>data table notebook</a>'\n",
              "            + ' to learn more about interactive tables.';\n",
              "          element.innerHTML = '';\n",
              "          dataTable['output_type'] = 'display_data';\n",
              "          await google.colab.output.renderOutput(dataTable, element);\n",
              "          const docLink = document.createElement('div');\n",
              "          docLink.innerHTML = docLinkHtml;\n",
              "          element.appendChild(docLink);\n",
              "        }\n",
              "      </script>\n",
              "    </div>\n",
              "  </div>\n",
              "  "
            ]
          },
          "metadata": {},
          "execution_count": 3
        }
      ]
    },
    {
      "cell_type": "markdown",
      "source": [
        "# Pengecekan nilai true or false"
      ],
      "metadata": {
        "id": "zeIlhBr5-PRk"
      }
    },
    {
      "cell_type": "code",
      "source": [
        "df.isnull().values.any()"
      ],
      "metadata": {
        "colab": {
          "base_uri": "https://localhost:8080/"
        },
        "id": "7AZ455Vg9NHL",
        "outputId": "d4fa056b-32d4-43a3-db4f-fe52bce61167"
      },
      "execution_count": null,
      "outputs": [
        {
          "output_type": "execute_result",
          "data": {
            "text/plain": [
              "False"
            ]
          },
          "metadata": {},
          "execution_count": 4
        }
      ]
    },
    {
      "cell_type": "markdown",
      "source": [
        "# Mengekstrak fitur yang akan digunakan untuk Model Naive Bayes Bournelli menggunakan kata kunci untuk memprediksi apakah ulasan itu positif atau negatif"
      ],
      "metadata": {
        "id": "nshSalkZ_hKW"
      }
    },
    {
      "cell_type": "code",
      "source": [
        "keywords = ['Good', 'Bad', 'Excellent', 'Great', 'Best', 'Love', 'Loved', 'Happy', \n",
        "            'Nice', 'Easy', 'Very well', 'Broke', 'Broken', 'Not', 'Recommend', 'Worst']\n",
        "\n",
        "for key in keywords:\n",
        "    df[str(key)] = df.message.str.contains('(?:(?<=^)|(?<=\\s))' + str(key) + '(?=$|[,.!]|\\s)', case=False)"
      ],
      "metadata": {
        "id": "wtyiB5UN9RAr"
      },
      "execution_count": null,
      "outputs": []
    },
    {
      "cell_type": "markdown",
      "source": [
        "# Menggunakan heatmap untuk menampilkan variabel independen"
      ],
      "metadata": {
        "id": "EJyHjdJA_q_2"
      }
    },
    {
      "cell_type": "code",
      "source": [
        "fig, ax = plt.subplots(figsize=(15,12)) \n",
        "sns.heatmap(df[keywords].corr())\n",
        "plt.show()"
      ],
      "metadata": {
        "colab": {
          "base_uri": "https://localhost:8080/",
          "height": 756
        },
        "id": "O42g096J9UDD",
        "outputId": "213cbe8c-61ee-4a18-a03a-d8244c87c179"
      },
      "execution_count": null,
      "outputs": [
        {
          "output_type": "display_data",
          "data": {
            "text/plain": [
              "<Figure size 1080x864 with 2 Axes>"
            ],
            "image/png": "[encoded data removed]"
          },
          "metadata": {
            "needs_background": "light"
          }
        }
      ]
    },
    {
      "cell_type": "markdown",
      "source": [
        "# Menetapkan target hasil dan variabel independen dengan menjalankan Naive Bayes Bernoulli dengan 3 fold"
      ],
      "metadata": {
        "id": "YGOPyuqeAbPy"
      }
    },
    {
      "cell_type": "code",
      "source": [
        "data = df[keywords]\n",
        "target = df['is_positive']\n",
        "\n",
        "# menjalankan nb bernoulli dengan 3 fold\n",
        "from sklearn.naive_bayes import BernoulliNB\n",
        "from sklearn.model_selection import StratifiedKFold\n",
        "\n",
        "skf = StratifiedKFold(n_splits=3)\n",
        "bnb = BernoulliNB()\n",
        "y_pred = []\n",
        "for train, test in skf.split(data, target):\n",
        "    data_train, data_test = data.iloc[train], data.iloc[test]\n",
        "    target_train, target_test = target.iloc[train], target.iloc[test]\n",
        "    bnb.fit(data_train, target_train)\n",
        "    y_pred.extend(bnb.predict(data_test))"
      ],
      "metadata": {
        "id": "q-x-AxCZ9X8d"
      },
      "execution_count": null,
      "outputs": []
    },
    {
      "cell_type": "markdown",
      "source": [
        "# Menghitung Confussion Matrix"
      ],
      "metadata": {
        "id": "Rjt4m65HAo89"
      }
    },
    {
      "cell_type": "code",
      "source": [
        "from sklearn.metrics import confusion_matrix\n",
        "print(confusion_matrix(target, y_pred))\n",
        "\n",
        "df['y_pred'] = y_pred\n",
        "\n",
        "fp = df.loc[(df['is_positive'] ==False) & (df['y_pred'] == True)].shape[0]\n",
        "fn = df.loc[(df['is_positive'] ==True) & (df['y_pred'] == False)].shape[0]\n",
        "sense = df.loc[(df['is_positive'] ==True) & (df['y_pred'] == True)].shape[0]\n",
        "spec = df.loc[(df['is_positive'] ==False) & (df['y_pred'] == False)].shape[0]\n",
        "\n",
        "print('\\nFalse Positive:{}\\nFalse Negative:{}\\nSensitivity:{}\\nSpecificity:{}'.format(fp,fn,sense,spec))\n",
        "\n",
        "print('Accuracy:',(target == y_pred).sum() / data.shape[0])"
      ],
      "metadata": {
        "colab": {
          "base_uri": "https://localhost:8080/"
        },
        "id": "KT_j5uNf9ago",
        "outputId": "537e44f7-a119-4adb-d659-737372b467be"
      },
      "execution_count": null,
      "outputs": [
        {
          "output_type": "stream",
          "name": "stdout",
          "text": [
            "[[471  29]\n",
            " [250 250]]\n",
            "\n",
            "False Positive:29\n",
            "False Negative:250\n",
            "Sensitivity:250\n",
            "Specificity:471\n",
            "Accuracy: 0.721\n"
          ]
        }
      ]
    },
    {
      "cell_type": "markdown",
      "source": [
        "# Menjalankan mode pada dataset imdb"
      ],
      "metadata": {
        "id": "1PM3jfwtBhGl"
      }
    },
    {
      "cell_type": "code",
      "source": [
        "imdb_df = pd.read_table('imdb_labelled.txt',header=None, names=['message','is_positive'])\n",
        "\n",
        "for key in keywords:\n",
        "    imdb_df[str(key)] = imdb_df.message.str.contains('(?:(?<=^)|(?<=\\s))' + str(key) + '(?=$|[,.!]|\\s)', case=False)\n",
        "\n",
        "# Menetapkan target hasil dan variabel independen\n",
        "data = imdb_df[keywords]\n",
        "target = imdb_df['is_positive']\n",
        "\n",
        "# menjalankan nb bernoulli dengan 3 fold\n",
        "from sklearn.naive_bayes import BernoulliNB\n",
        "from sklearn.model_selection import StratifiedKFold\n",
        "\n",
        "skf = StratifiedKFold(n_splits=3)\n",
        "bnb = BernoulliNB()\n",
        "y_pred = []\n",
        "for train, test in skf.split(data, target):\n",
        "    data_train, data_test = data.iloc[train], data.iloc[test]\n",
        "    target_train, target_test = target.iloc[train], target.iloc[test]\n",
        "    bnb.fit(data_train, target_train)\n",
        "    y_pred.extend(bnb.predict(data_test))\n",
        "\n",
        "print(\"Number of mislabeled points out of a total {} points : {}\\n\".format(\n",
        "    data.shape[0],\n",
        "    (target != y_pred).sum()\n",
        "))\n",
        "\n",
        "# Menghitung confusion matrix and akurasi.\n",
        "from sklearn.metrics import confusion_matrix\n",
        "print(confusion_matrix(target, y_pred))\n",
        "print('Accuracy:',(target == y_pred).sum() / data.shape[0])"
      ],
      "metadata": {
        "colab": {
          "base_uri": "https://localhost:8080/"
        },
        "id": "38EoMuiq9dee",
        "outputId": "483835bf-a8fc-44d7-c6e2-11fe337de91e"
      },
      "execution_count": null,
      "outputs": [
        {
          "output_type": "stream",
          "name": "stdout",
          "text": [
            "Number of mislabeled points out of a total 748 points : 314\n",
            "\n",
            "[[ 72 290]\n",
            " [ 24 362]]\n",
            "Accuracy: 0.5802139037433155\n"
          ]
        }
      ]
    },
    {
      "cell_type": "markdown",
      "source": [
        "# Menjalankan model apda dataset Yelp"
      ],
      "metadata": {
        "id": "c7Ridl8JBfJq"
      }
    },
    {
      "cell_type": "code",
      "source": [
        "yelp_df = pd.read_table('yelp_labelled.txt',header=None, names=['message','is_positive'])\n",
        "\n",
        "for key in keywords:\n",
        "    yelp_df[str(key)] = yelp_df.message.str.contains('(?:(?<=^)|(?<=\\s))' + str(key) + '(?=$|[,.!]|\\s)', case=False)\n",
        "\n",
        "# Menetapkan target hasil dan variabel independen\n",
        "data = yelp_df[keywords]\n",
        "target = yelp_df['is_positive']\n",
        "\n",
        "# menjalankan nb bernoulli dengan 3 fold\n",
        "from sklearn.naive_bayes import BernoulliNB\n",
        "from sklearn.model_selection import StratifiedKFold\n",
        "\n",
        "skf = StratifiedKFold(n_splits=3)\n",
        "bnb = BernoulliNB()\n",
        "y_pred = []\n",
        "for train, test in skf.split(data, target):\n",
        "    data_train, data_test = data.iloc[train], data.iloc[test]\n",
        "    target_train, target_test = target.iloc[train], target.iloc[test]\n",
        "    bnb.fit(data_train, target_train)\n",
        "    y_pred.extend(bnb.predict(data_test))\n",
        "\n",
        "print(\"Number of mislabeled points out of a total {} points : {}\\n\".format(\n",
        "    data.shape[0],\n",
        "    (target != y_pred).sum()\n",
        "))\n",
        "\n",
        "# Menghitung confusion matrix and akurasi.\n",
        "from sklearn.metrics import confusion_matrix\n",
        "print(confusion_matrix(target, y_pred))\n",
        "print('Accuracy:',(target == y_pred).sum() / data.shape[0])"
      ],
      "metadata": {
        "colab": {
          "base_uri": "https://localhost:8080/"
        },
        "id": "dR9TWLD99fGM",
        "outputId": "47786975-c4d7-4b1f-9974-2d479d2eef04"
      },
      "execution_count": null,
      "outputs": [
        {
          "output_type": "stream",
          "name": "stdout",
          "text": [
            "Number of mislabeled points out of a total 1000 points : 362\n",
            "\n",
            "[[455  45]\n",
            " [317 183]]\n",
            "Accuracy: 0.638\n"
          ]
        }
      ]
    }
  ]
}