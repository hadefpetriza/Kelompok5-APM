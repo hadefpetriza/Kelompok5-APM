{
  "nbformat": 4,
  "nbformat_minor": 0,
  "metadata": {
    "colab": {
      "name": "Single_Layer_Perceptron.ipynb",
      "provenance": []
    },
    "kernelspec": {
      "name": "python3",
      "display_name": "Python 3"
    },
    "language_info": {
      "name": "python"
    }
  },
  "cells": [
    {
      "cell_type": "code",
      "source": [
        "import numpy as np\n",
        "import pandas as pd\n",
        "from scipy.io import loadmat\n",
        "import seaborn as sns\n",
        "from sklearn import metrics\n",
        "from matplotlib import pyplot as plt"
      ],
      "metadata": {
        "id": "Cbhj9irOwC9l"
      },
      "execution_count": null,
      "outputs": []
    },
    {
      "cell_type": "code",
      "source": [
        "class Perceptron:\n",
        "    def __init__(self, learning_rate= 0.01, n_iters= 1000):\n",
        "        self.lr = learning_rate\n",
        "        self.n_iters = n_iters\n",
        "        self.activation_function = self._unit_step_function\n",
        "        self.theta = None\n",
        "        self.bias = None\n",
        "    \n",
        "    def fit(self, X, y):\n",
        "        n_samples, n_features = X.shape\n",
        "\n",
        "        #initialising theta\n",
        "        self.theta = np.zeros(n_features)\n",
        "        self.bias = 0\n",
        "\n",
        "        #making sure y only takes values 1 or 0\n",
        "        y_ = np.array([1 if i>0 else 0 for i in y])\n",
        "\n",
        "        for _ in range(self.n_iters):\n",
        "            for index, x_value in enumerate(X):\n",
        "                linear_output = (x_value @ self.theta) + self.bias\n",
        "                y_predicted = self.activation_function(linear_output)\n",
        "\n",
        "                update = self.lr * (y_[index] - y_predicted)\n",
        "                self.theta += update * x_value\n",
        "                self.bias += update\n",
        "\n",
        "    def predict(self, X):\n",
        "        linear_output = X @ self.theta + self.bias\n",
        "        y_predicted = self.activation_function(linear_output)\n",
        "        y_predicted = np.array(y_predicted)\n",
        "        return y_predicted\n",
        "    \n",
        "    def accuracy(self, y_true, y_pred):\n",
        "        accuracy = (np.sum(y_true == y_pred)) / len(y_true)\n",
        "        return accuracy\n",
        "\n",
        "    def _unit_step_function(self, X):\n",
        "        return np.where(X >= 0, 1, 0)"
      ],
      "metadata": {
        "id": "3VWhCpsDwIpH"
      },
      "execution_count": null,
      "outputs": []
    },
    {
      "cell_type": "code",
      "source": [
        "data5 = loadmat('data5.mat')\n",
        "data = pd.DataFrame(data5['x']) \n",
        "data = data.sample(frac= 1)"
      ],
      "metadata": {
        "id": "PxynMHfHwMXY"
      },
      "execution_count": null,
      "outputs": []
    },
    {
      "cell_type": "code",
      "source": [
        "X = data.iloc[:, :72]\n",
        "X = (X - X.mean(axis= 0)) / X.std(axis= 0)\n",
        "y = data.iloc[:, 72]"
      ],
      "metadata": {
        "id": "jizen0RdwPk1"
      },
      "execution_count": null,
      "outputs": []
    },
    {
      "cell_type": "code",
      "source": [
        "from sklearn.model_selection import train_test_split\n",
        "X_train, X_test, y_train, y_test = train_test_split(X, y, random_state= 23)\n",
        "X_train = X_train.to_numpy()\n",
        "X_test = X_test.to_numpy()\n",
        "y_train = y_train.to_numpy()\n",
        "y_test = y_test.to_numpy()"
      ],
      "metadata": {
        "id": "JZgvLIM5wQkX"
      },
      "execution_count": null,
      "outputs": []
    },
    {
      "cell_type": "code",
      "source": [
        "p = Perceptron()\n",
        "p.fit(X_train, y_train)\n",
        "predictions = p.predict(X_test)\n",
        "score = p.accuracy(y_test, predictions)\n",
        "print(score)"
      ],
      "metadata": {
        "colab": {
          "base_uri": "https://localhost:8080/"
        },
        "id": "nfMxt0OiwStf",
        "outputId": "5044fdaa-69f4-4207-bc9d-668e0cba1121"
      },
      "execution_count": null,
      "outputs": [
        {
          "output_type": "stream",
          "name": "stdout",
          "text": [
            "0.8472998137802608\n"
          ]
        }
      ]
    },
    {
      "cell_type": "code",
      "source": [
        "cm = metrics.confusion_matrix(y_test, predictions)"
      ],
      "metadata": {
        "id": "uckmQmonwUXP"
      },
      "execution_count": null,
      "outputs": []
    },
    {
      "cell_type": "code",
      "source": [
        "plt.figure(figsize=(5,5))\n",
        "sns.heatmap(cm, annot=True, fmt=\".3f\", linewidths=.5, square = True, cmap = 'Blues_r');\n",
        "plt.ylabel('Actual label');\n",
        "plt.xlabel('Predicted label');\n",
        "all_sample_title = 'Accuracy Score: {0}'.format(score)\n",
        "plt.title(all_sample_title, size = 15)\n",
        "plt.show()\n",
        "#plt.savefig('Logistic confusion matrix')"
      ],
      "metadata": {
        "colab": {
          "base_uri": "https://localhost:8080/",
          "height": 309
        },
        "id": "vVUsH4-wwdwn",
        "outputId": "be00ee58-dc46-4770-e3ba-3292720c665d"
      },
      "execution_count": null,
      "outputs": [
        {
          "output_type": "display_data",
          "data": {
            "text/plain": [
              "<Figure size 360x360 with 2 Axes>"
            ],
            "image/png": "[encoded data removed]"
          },
          "metadata": {
            "needs_background": "light"
          }
        }
      ]
    }
  ]
}